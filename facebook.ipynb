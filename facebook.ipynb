{
 "cells": [
  {
   "cell_type": "markdown",
   "metadata": {},
   "source": [
    "##facebook graph api in julia\n",
    "\n",
    "this is a small recap of all tricks i've learned to do :) maybe they will be usefull to you, \n",
    "\n",
    "for example in your birthday when you have a ton of posts and you want to comment on each one.\n",
    "\n",
    "you can get your token and your user id here [Graph API Explorer](https://developers.facebook.com/tools/explorer)\n",
    "(you must be logged in to facebook)\n",
    "\n",
    "_note: i changed my user and token before posting to my git :)_"
   ]
  },
  {
   "cell_type": "code",
   "execution_count": 1,
   "metadata": {
    "collapsed": false
   },
   "outputs": [
    {
     "data": {
      "text/plain": [
       "Response(200 OK, 19 Headers, 44 Bytes in Body)"
      ]
     },
     "execution_count": 1,
     "metadata": {},
     "output_type": "execute_result"
    }
   ],
   "source": [
    "using Requests\n",
    "import JSON\n",
    "\n",
    "#data required\n",
    "graph_api=\"https://graph.facebook.com/\"\n",
    "user=\"your-user-here\"\n",
    "msg=\"thelazyfoxjumps\"\n",
    "token=\"your-token-here\"\n",
    "\n",
    "#post a message to my feed\n",
    "post(graph_api*user*\"/feed\",json={\"access_token\"=> token, \"message\"=> msg})\n"
   ]
  },
  {
   "cell_type": "code",
   "execution_count": null,
   "metadata": {
    "collapsed": true
   },
   "outputs": [],
   "source": [
    "#i won't run this but now we can use the above for fun\n",
    "#it post too my feed t, then h, then e, l,a,z,y,f,o,x,j,u....\n",
    "\n",
    "for i in msg \n",
    "    post(graph_api*user*\"/feed\",json={\"access_token\"=> token, \"message\"=> i})\n",
    "end"
   ]
  },
  {
   "cell_type": "code",
   "execution_count": null,
   "metadata": {
    "collapsed": true
   },
   "outputs": [],
   "source": [
    "#how to get the id of the first 25 posts in my wall\n",
    "\n",
    "s=get(graph_api*user*\"/feed?\",query={\"access_token\" => token}).data\n",
    "j = JSON.parse(s)\n",
    "for i=1:25\n",
    "    id=string(j[\"data\"][i][\"id\"])\n",
    "    println(id)\n",
    "end"
   ]
  },
  {
   "cell_type": "code",
   "execution_count": null,
   "metadata": {
    "collapsed": true
   },
   "outputs": [],
   "source": [
    "#now with this id's we can comment on each, i won't run this\n",
    "msg=\"and yet i was traveling very slowly... what if i went faster?\"\n",
    "\n",
    "for i=1:25\n",
    "    id=string(j[\"data\"][i][\"id\"])\n",
    "    post(graph_api*id*\"/comments\",json={\"access_token\"=> token, \"message\"=> msg})\n",
    "end"
   ]
  },
  {
   "cell_type": "code",
   "execution_count": null,
   "metadata": {
    "collapsed": true
   },
   "outputs": [],
   "source": [
    "#if i run this (i won't i dont want friends to panic haha) it prints out the names of the people who liked one of my latests 25 feeds\n",
    "\n",
    "for i=1:25\n",
    "    s=get(graph_api*user*\"/feed?\",query={\"access_token\" => token}).data\n",
    "    j = JSON.parse(s)\n",
    "    id=string(j[\"data\"][i][\"id\"])\n",
    "    t=get(graph_api*id*\"/likes\",query={\"access_token\"=> token}).data\n",
    "    u = JSON.parse(t)\n",
    "    len=length(u[\"data\"])\n",
    "\n",
    "    for j=1:len\n",
    "        println(u[\"data\"][j][\"name\"])\n",
    "    end\n",
    "end\n"
   ]
  }
 ],
 "metadata": {
  "kernelspec": {
   "display_name": "Julia 0.3.8",
   "language": "julia",
   "name": "julia-0.3"
  },
  "language_info": {
   "name": "julia",
   "version": "0.3.8"
  }
 },
 "nbformat": 4,
 "nbformat_minor": 0
}
